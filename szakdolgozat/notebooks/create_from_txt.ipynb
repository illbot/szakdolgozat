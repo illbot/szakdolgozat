{
 "cells": [
  {
   "cell_type": "code",
   "execution_count": 1,
   "metadata": {},
   "outputs": [],
   "source": [
    "import pandas as pd\n",
    "import networkx as nx\n",
    "import time\n",
    "import matplotlib.pyplot as plt\n",
    "\n",
    "def from_txt(url):\n",
    "    G = nx.Graph()\n",
    "    data = pd.read_csv(url, sep=\" \", header = None)\n",
    "    data.columns = [\"from\", \"to\"]\n",
    "    for index,row in data.iterrows():\n",
    "        G.add_node(row['from'].item())\n",
    "    \n",
    "    for index,row in data.iterrows():\n",
    "        G.add_edge(row['from'].item(),row['to'].item())\n",
    "    return G\n",
    "\n",
    "def from_csv(url):\n",
    "    G = nx.DiGraph()\n",
    "    data = pd.read_csv(url, sep=\",\", header = None)\n",
    "    data.columns = [\"source\", \"target\", \"rating\"]\n",
    "    \n",
    "    for index,row in data.iterrows():\n",
    "        G.add_node(row['source'].item())\n",
    "        \n",
    "    for index,row in data.iterrows():\n",
    "        G.add_edge(row['source'].item(),row['target'].item(), weight = float(row['rating'].item()))\n",
    "    return G"
   ]
  },
  {
   "cell_type": "code",
   "execution_count": null,
   "metadata": {},
   "outputs": [],
   "source": []
  }
 ],
 "metadata": {
  "kernelspec": {
   "display_name": "Python 3",
   "language": "python",
   "name": "python3"
  },
  "language_info": {
   "codemirror_mode": {
    "name": "ipython",
    "version": 3
   },
   "file_extension": ".py",
   "mimetype": "text/x-python",
   "name": "python",
   "nbconvert_exporter": "python",
   "pygments_lexer": "ipython3",
   "version": "3.8.3"
  }
 },
 "nbformat": 4,
 "nbformat_minor": 4
}
