{
 "cells": [
  {
   "cell_type": "code",
   "execution_count": 1,
   "metadata": {},
   "outputs": [],
   "source": [
    "from ipywidgets import interact\n",
    "import matplotlib.pyplot as plt\n",
    "import networkx as nx"
   ]
  },
  {
   "cell_type": "code",
   "execution_count": 2,
   "metadata": {},
   "outputs": [],
   "source": [
    "G = nx.Graph()"
   ]
  },
  {
   "cell_type": "code",
   "execution_count": 1,
   "metadata": {},
   "outputs": [],
   "source": [
    "def random_graph(n=6, t='complete', r=2, h=4, m1=2, m2=0 , offsets=[1],create_using=None ):\n",
    "    if t not in ['balanced','barbell','binomial', 'complete', 'complete_multipartite',\n",
    "                 'circulant','cycle', 'dorogovtsev_goltsev_mendes', 'empty', 'full_rary_tree',\n",
    "                 'ladder','lollipop','null','path', 'star', 'trivial', 'turan', 'wheel']:\n",
    "        print(\"\\'t\\' not a valid type'\") \n",
    "        return\n",
    "    \n",
    "    if 'balanced' == t: \n",
    "        return nx.balanced_tree(r, h, create_using = create_using )\n",
    "    elif'barbell'== t: \n",
    "        return nx.barbell_graph(m1,m2, create_using = create_using)\n",
    "    elif'binomial' == t: \n",
    "        return nx.binomial_tree(n)\n",
    "    elif'complete' == t: \n",
    "        return nx.complete_graph(n, create_using = create_using)\n",
    "    elif'complete_multipartite' == t: \n",
    "        return nx.complete_multipartite_graph(n)\n",
    "    elif'circulant' == t: \n",
    "        return nx.circulant_graphns(n, offsets=offsets, create_using = create_using)\n",
    "    elif'cylce'== t:\n",
    "        return nx.cycle_graph(n, create_using = create_using)\n",
    "    if 'dorogovtsev_goltsev_mendes' == t: \n",
    "        return nx.dorogovtsev_goltsev_mendes_graph(n, create_using = create_using)\n",
    "    elif'empty'== t: \n",
    "        return nx.empty_graph(n, create_using = create_using)\n",
    "    elif'full_rary_tree'== t: \n",
    "        return nx.full_rary_tree(n, r, create_using = create_using)\n",
    "    elif'ladder'== t: \n",
    "        return nx.ladder_graph(n, create_using = create_using)\n",
    "    elif'lollipop' == t: \n",
    "        return nx.lollipop_graph(n=n, m=m, create_using = create_using)\n",
    "    elif'null' == t: \n",
    "        return nx.null_graph(create_using = create_using)\n",
    "    elif'path'== t:\n",
    "        return nx.path_graph(n, create_using = create_using)\n",
    "    elif 'star' == t :\n",
    "        return nx.star_graph(n, create_using = create_using)\n",
    "    elif 'trivial' == t :\n",
    "        return nx.trivial_graph(create_using = create_using)\n",
    "    elif 'turan' == t :\n",
    "        return nx.trivial_graph(n, r)\n",
    "    elif 'wheel' == t :\n",
    "        return nx.wheel_graphn(n, create_using = create_using)\n",
    "\n",
    "    \n",
    "def centrality(G, t=\"degree\", edge=(1,2) max_iter=50, tol=0, nstart=None, weight=None, alpha=0.1, beta=1.0,\n",
    "               normalized=True, u=None, distance=None, wf_improved=True, insertion=True, prev_cc):\n",
    "    \n",
    "      if t not in ['degree','in_degree','out_degree','eigenvector','katz']:\n",
    "        print(\"\\'t\\' not a valid centrality type'\") \n",
    "        return\n",
    "    \n",
    "    if 'degree' == t:\n",
    "        return nx.degree_centrality(G)\n",
    "    elif 'in_degree' == t:\n",
    "        return nx.in_degree_centrality(G)\n",
    "    elif 'out_degree' == t:\n",
    "        return nx.outn_degree_centrality(G)\n",
    "    elif 'eigenvector' == t:\n",
    "        return nx.outn_degree_centrality(G,max_iter,tol,nstartm,weight)\n",
    "    elif 'katz' == t:\n",
    "        return nx.katz_centrality_numpy(G, alpha, beta, normalized, weight)\n",
    "    elif 'closeness' == t:\n",
    "        return nx.closeness_centrality(G, u, distance, wf_improved)\n",
    "    elif 'inc_closeness' == t:\n",
    "        return nx.incremental_closeness_centrality(G, edge, prev_cc, insertion, wf_improved)\n",
    "    "
   ]
  },
  {
   "cell_type": "code",
   "execution_count": 4,
   "metadata": {},
   "outputs": [],
   "source": [
    "G = random_graph(8, 'complete')"
   ]
  },
  {
   "cell_type": "code",
   "execution_count": 5,
   "metadata": {},
   "outputs": [
    {
     "data": {
      "text/plain": [
       "{0: 1.0, 1: 1.0, 2: 1.0, 3: 1.0, 4: 1.0, 5: 1.0, 6: 1.0, 7: 1.0}"
      ]
     },
     "execution_count": 5,
     "metadata": {},
     "output_type": "execute_result"
    }
   ],
   "source": [
    "nx.degree_centrality(G)"
   ]
  },
  {
   "cell_type": "code",
   "execution_count": 6,
   "metadata": {},
   "outputs": [
    {
     "data": {
      "text/plain": [
       "{0: 0.3535533905932738,\n",
       " 1: 0.3535533905932738,\n",
       " 2: 0.3535533905932738,\n",
       " 3: 0.3535533905932738,\n",
       " 4: 0.3535533905932738,\n",
       " 5: 0.3535533905932738,\n",
       " 6: 0.3535533905932738,\n",
       " 7: 0.3535533905932738}"
      ]
     },
     "execution_count": 6,
     "metadata": {},
     "output_type": "execute_result"
    }
   ],
   "source": [
    "nx.eigenvector_centrality(G)"
   ]
  },
  {
   "cell_type": "code",
   "execution_count": 39,
   "metadata": {},
   "outputs": [],
   "source": [
    "G2 = nx.fast_gnp_random_graph(10, 0.5)"
   ]
  },
  {
   "cell_type": "code",
   "execution_count": 41,
   "metadata": {},
   "outputs": [
    {
     "data": {
      "text/plain": [
       "{0: 0.5555555555555556,\n",
       " 1: 0.6666666666666666,\n",
       " 2: 0.5555555555555556,\n",
       " 3: 0.4444444444444444,\n",
       " 4: 0.4444444444444444,\n",
       " 5: 0.3333333333333333,\n",
       " 6: 0.4444444444444444,\n",
       " 7: 0.5555555555555556,\n",
       " 8: 0.6666666666666666,\n",
       " 9: 0.6666666666666666}"
      ]
     },
     "execution_count": 41,
     "metadata": {},
     "output_type": "execute_result"
    }
   ],
   "source": [
    "nx.degree_centrality(G2)\n"
   ]
  },
  {
   "cell_type": "code",
   "execution_count": 43,
   "metadata": {},
   "outputs": [
    {
     "data": {
      "text/plain": [
       "{0: 0.32388150666794857,\n",
       " 1: 0.3599912209934397,\n",
       " 2: 0.34336781969336433,\n",
       " 3: 0.2669998674462221,\n",
       " 4: 0.2630501090436371,\n",
       " 5: 0.19503008896524793,\n",
       " 6: 0.2519117281869744,\n",
       " 7: 0.34034068050542593,\n",
       " 8: 0.3599912209934397,\n",
       " 9: 0.4002494589150908}"
      ]
     },
     "execution_count": 43,
     "metadata": {},
     "output_type": "execute_result"
    }
   ],
   "source": [
    "nx.eigenvector_centrality(G2)"
   ]
  },
  {
   "cell_type": "code",
   "execution_count": null,
   "metadata": {},
   "outputs": [],
   "source": []
  }
 ],
 "metadata": {
  "kernelspec": {
   "display_name": "Python 3",
   "language": "python",
   "name": "python3"
  },
  "language_info": {
   "codemirror_mode": {
    "name": "ipython",
    "version": 3
   },
   "file_extension": ".py",
   "mimetype": "text/x-python",
   "name": "python",
   "nbconvert_exporter": "python",
   "pygments_lexer": "ipython3",
   "version": "3.8.3"
  }
 },
 "nbformat": 4,
 "nbformat_minor": 4
}
